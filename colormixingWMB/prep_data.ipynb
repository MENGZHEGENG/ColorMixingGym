{
 "cells": [
  {
   "cell_type": "code",
   "execution_count": 2,
   "metadata": {},
   "outputs": [],
   "source": [
    "import os\n",
    "import json"
   ]
  },
  {
   "cell_type": "code",
   "execution_count": 13,
   "metadata": {},
   "outputs": [
    {
     "name": "stdout",
     "output_type": "stream",
     "text": [
      "pour 800\n"
     ]
    }
   ],
   "source": [
    "from env import ColorMixing\n",
    "from world_model import ColorMixingWMInit\n",
    "import random\n",
    "from collections import defaultdict\n",
    "\n",
    "dummy_model = ColorMixingWMInit()\n",
    "env = ColorMixing()\n",
    "transitions = defaultdict(list)\n",
    "\n",
    "num_levels = 50\n",
    "ep_len = 16 \n",
    "save_path = \"data/test_cases.json\"\n",
    "dir = \"data/level1/\"\n",
    "\n",
    "for _ in range(num_levels):    \n",
    "    files = os.listdir(dir)\n",
    "    rand_file_path = f\"{dir}/{random.choice(files)}\"\n",
    "    f = open(rand_file_path)\n",
    "    data = json.load(f)\n",
    "    state = data[\"state\"]\n",
    "    \n",
    "    # generate random goal state\n",
    "    goal_idx = random.randint(1, 6)\n",
    "    rgb = [random.randint(0,255) for _ in range(3)]\n",
    "    goal_amt = random.randint(0, 200)\n",
    "    goal_str = f\"contains {goal_idx} {rgb[0]} {rgb[1]} {rgb[2]} {goal_amt}\"\n",
    "    dummy_model.goal_state = [goal_str]\n",
    "\n",
    "    # breakpoint()\n",
    "    \n",
    "    for _ in range(ep_len):\n",
    "        breakpoint()\n",
    "        rand_action = random.choice(dummy_model.suggest_actions(state))\n",
    "        action_type = rand_action.split(\" \")[0]\n",
    "        next_state = env.state_transition(set(state), rand_action)\n",
    "\n",
    "        trans = {\n",
    "            \"state\" : list(state),\n",
    "            \"action\" : rand_action,\n",
    "            \"next_state\" : list(next_state)\n",
    "        }\n",
    "\n",
    "        transitions[action_type].append(trans)\n",
    "        state = next_state\n",
    "\n",
    "for key, value in transitions.items():\n",
    "    print(key, len(value))\n",
    "\n",
    "tc_per_action_type = 100\n",
    "\n",
    "for key in transitions: \n",
    "    transitions[key] = transitions[key][:tc_per_action_type]\n",
    "\n",
    "with open(save_path, \"w\") as json_file:\n",
    "    json.dump(transitions, json_file, indent=1)"
   ]
  },
  {
   "cell_type": "code",
   "execution_count": null,
   "metadata": {},
   "outputs": [],
   "source": []
  }
 ],
 "metadata": {
  "kernelspec": {
   "display_name": "nlvr",
   "language": "python",
   "name": "python3"
  },
  "language_info": {
   "codemirror_mode": {
    "name": "ipython",
    "version": 3
   },
   "file_extension": ".py",
   "mimetype": "text/x-python",
   "name": "python",
   "nbconvert_exporter": "python",
   "pygments_lexer": "ipython3",
   "version": "3.10.13"
  }
 },
 "nbformat": 4,
 "nbformat_minor": 2
}
