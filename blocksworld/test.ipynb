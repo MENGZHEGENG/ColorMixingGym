{
 "cells": [
  {
   "cell_type": "code",
   "execution_count": 1,
   "metadata": {},
   "outputs": [],
   "source": [
    "from langchain.chat_models import ChatOpenAI\n",
    "# from openai import OpenAI\n",
    "# client = OpenAI()"
   ]
  },
  {
   "cell_type": "code",
   "execution_count": 20,
   "metadata": {},
   "outputs": [],
   "source": [
    "yes = \"\"\"\n",
    "def state_transition(self, state, action):\n",
    "    \\\"\\\"\\\"\n",
    "    Applies an action to the current state and returns the new state.\n",
    "\n",
    "    :param state: A set of predicates representing the current state.\n",
    "    :param action: A string representing the action to be applied.\n",
    "    :return: The new state as a set of predicates.\n",
    "    \\\"\\\"\\\"\n",
    "\n",
    "    # Split action into words to extract action type and parameters\n",
    "    words = action.split()\n",
    "    action_type = words[0]\n",
    "    params = words[1:]\n",
    "\n",
    "    new_state = set(state)  # Create a copy of the current state\n",
    "\n",
    "    if action_type == \"pick-up\":\n",
    "        block = params[0]\n",
    "        new_state.discard((\"clear\", block))\n",
    "        new_state.discard((\"ontable\", block))\n",
    "        new_state.add((\"holding\", block))\n",
    "        print(\"naniii\")\n",
    "        # egnwgnwognweoginwf37r230'']]]\n",
    "\n",
    "    elif action_type == \"put-down\":\n",
    "        block = params[0]\n",
    "        new_state.add((\"clear\", block))\n",
    "        new_state.add((\"ontable\", block))\n",
    "        new_state.discard((\"holding\", block))\n",
    "\n",
    "    elif action_type == \"stack\":\n",
    "        block1 = params[0]\n",
    "        block2 = params[1]\n",
    "        new_state.discard((\"clear\", block1))\n",
    "        new_state.add((\"clear\", block2))\n",
    "        new_state.discard((\"ontable\", block1))\n",
    "        new_state.add((\"on\", block1, block2))\n",
    "\n",
    "    elif action_type == \"unstack\":\n",
    "        block1 = params[0]\n",
    "        block2 = params[1]\n",
    "        new_state.add((\"clear\", block1))\n",
    "        new_state.discard((\"clear\", block2))\n",
    "        new_state.add((\"ontable\", block1))\n",
    "        new_state.discard((\"on\", block1, block2))\n",
    "\n",
    "    return new_state\n",
    "\"\"\""
   ]
  },
  {
   "cell_type": "code",
   "execution_count": 3,
   "metadata": {},
   "outputs": [],
   "source": [
    "from main import VirtualBlocksWorld"
   ]
  },
  {
   "cell_type": "code",
   "execution_count": 6,
   "metadata": {},
   "outputs": [],
   "source": [
    "a = VirtualBlocksWorld()\n",
    "current_state = {\n",
    "    \"ontable a\", \"ontable b\", \"clear a\", \"clear b\", \"clear c\", \"ontable c\", \"handempty\"\n",
    "}"
   ]
  },
  {
   "cell_type": "code",
   "execution_count": 21,
   "metadata": {},
   "outputs": [
    {
     "ename": "SyntaxError",
     "evalue": "unmatched ']' (<string>, line 24)",
     "output_type": "error",
     "traceback": [
      "Traceback \u001b[0;36m(most recent call last)\u001b[0m:\n",
      "\u001b[0m  File \u001b[1;32m~/miniconda3/envs/nlvr/lib/python3.10/site-packages/IPython/core/interactiveshell.py:3553\u001b[0m in \u001b[1;35mrun_code\u001b[0m\n    exec(code_obj, self.user_global_ns, self.user_ns)\u001b[0m\n",
      "\u001b[0;36m  Cell \u001b[0;32mIn[21], line 2\u001b[0;36m\n\u001b[0;31m    exec(yes, globals(), namespace)  # Compile the string into a function\u001b[0;36m\n",
      "\u001b[0;36m  File \u001b[0;32m<string>:24\u001b[0;36m\u001b[0m\n\u001b[0;31m    egnwgnwognweoginwf37r230'']]]\u001b[0m\n\u001b[0m                              ^\u001b[0m\n\u001b[0;31mSyntaxError\u001b[0m\u001b[0;31m:\u001b[0m unmatched ']'\n"
     ]
    }
   ],
   "source": [
    "namespace = {}\n",
    "exec(yes, globals(), namespace)  # Compile the string into a function\n",
    "new_method = namespace['state_transition']"
   ]
  },
  {
   "cell_type": "code",
   "execution_count": 18,
   "metadata": {},
   "outputs": [],
   "source": [
    "import types\n",
    "a.state_transition = types.MethodType(new_method, a)\n"
   ]
  },
  {
   "cell_type": "code",
   "execution_count": 19,
   "metadata": {},
   "outputs": [
    {
     "name": "stdout",
     "output_type": "stream",
     "text": [
      "naniii\n"
     ]
    },
    {
     "data": {
      "text/plain": [
       "{('holding', 'a'),\n",
       " 'clear a',\n",
       " 'clear b',\n",
       " 'clear c',\n",
       " 'handempty',\n",
       " 'ontable a',\n",
       " 'ontable b',\n",
       " 'ontable c'}"
      ]
     },
     "execution_count": 19,
     "metadata": {},
     "output_type": "execute_result"
    }
   ],
   "source": [
    "a.state_transition(current_state, \"pick-up a\")"
   ]
  },
  {
   "cell_type": "code",
   "execution_count": 8,
   "metadata": {},
   "outputs": [],
   "source": [
    "llm = ChatOpenAI(\n",
    "    temperature=0,\n",
    "    model_name='gpt-3.5-turbo-1106'\n",
    "    # model_name='gpt-4-1106-preview'\n",
    ")"
   ]
  },
  {
   "cell_type": "code",
   "execution_count": 10,
   "metadata": {},
   "outputs": [
    {
     "data": {
      "text/plain": [
       "'To use templates in Langchain, you can follow these steps:\\n\\n1. Log in to your Langchain account and navigate to the \"Templates\" section.\\n\\n2. Click on the \"Create New Template\" button to start creating a new template.\\n\\n3. Choose the type of template you want to create, such as a document template, email template, or any other type of template that fits your needs.\\n\\n4. Fill in the necessary details and content for your template, such as the title, description, and the actual content of the template.\\n\\n5. Once you have created the template, you can then use it in your Langchain account by selecting it when creating new documents, emails, or other types of content.\\n\\n6. You can also edit and update your templates as needed, and save them for future use.\\n\\nBy following these steps, you can easily use templates in Langchain to streamline your content creation process and ensure consistency in your communications.'"
      ]
     },
     "execution_count": 10,
     "metadata": {},
     "output_type": "execute_result"
    }
   ],
   "source": [
    "llm.predict(\"how do i use templates in langchain\")"
   ]
  },
  {
   "cell_type": "code",
   "execution_count": 4,
   "metadata": {},
   "outputs": [],
   "source": [
    "initial_state = {\n",
    "    \"on-table a\", \"on-table b\", \"on-table c\",\n",
    "    \"clear a\", \"clear b\", \"clear c\", \"arm-empty\"\n",
    "}"
   ]
  },
  {
   "cell_type": "code",
   "execution_count": 2,
   "metadata": {},
   "outputs": [],
   "source": [
    "def apply_action(state, action, parameters):\n",
    "    \"\"\"\n",
    "    Applies an action to the current state and returns the new state.\n",
    "\n",
    "    :param state: A set of predicates representing the current state.\n",
    "    :param action: A string representing the action to be applied.\n",
    "    :param parameters: A list of parameters for the action.\n",
    "    :return: The new state as a set of predicates.\n",
    "    \"\"\"\n",
    "    # Copy the current state to avoid mutating the original\n",
    "    new_state = state.copy()\n",
    "\n",
    "    if action == \"pickup\":\n",
    "        ob = parameters[0]\n",
    "        # Check if the block is clear and on the table and the arm is empty\n",
    "        if {\"clear \" + ob, \"on-table \" + ob, \"arm-empty\"} <= new_state:\n",
    "            new_state.remove(\"clear \" + ob)\n",
    "            new_state.remove(\"on-table \" + ob)\n",
    "            new_state.remove(\"arm-empty\")\n",
    "            new_state.add(\"holding \" + ob)\n",
    "\n",
    "    elif action == \"putdown\":\n",
    "        ob = parameters[0]\n",
    "        # Check if holding the object\n",
    "        if {\"holding \" + ob} <= new_state:\n",
    "            new_state.remove(\"holding \" + ob)\n",
    "            new_state.add(\"on-table \" + ob)\n",
    "            new_state.add(\"clear \" + ob)\n",
    "            new_state.add(\"arm-empty\")\n",
    "\n",
    "    elif action == \"stack\":\n",
    "        ob, underob = parameters\n",
    "        # Check if holding object and under object is clear\n",
    "        if {\"holding \" + ob, \"clear \" + underob} <= new_state:\n",
    "            new_state.remove(\"holding \" + ob)\n",
    "            new_state.remove(\"clear \" + underob)\n",
    "            new_state.add(\"on \" + ob + \" \" + underob)\n",
    "            new_state.add(\"clear \" + ob)\n",
    "            new_state.add(\"arm-empty\")\n",
    "\n",
    "    elif action == \"unstack\":\n",
    "        ob, underob = parameters\n",
    "        # Check if ob is on underob, and the arm is empty\n",
    "        if {\"on \" + ob + \" \" + underob, \"arm-empty\"} <= new_state:\n",
    "            new_state.remove(\"on \" + ob + \" \" + underob)\n",
    "            new_state.add(\"holding \" + ob)\n",
    "            new_state.remove(\"arm-empty\")\n",
    "            new_state.add(\"clear \" + underob)\n",
    "\n",
    "    return new_state\n"
   ]
  },
  {
   "cell_type": "code",
   "execution_count": 6,
   "metadata": {},
   "outputs": [
    {
     "data": {
      "text/plain": [
       "{'clear b', 'clear c', 'holding a', 'on-table b', 'on-table c'}"
      ]
     },
     "execution_count": 6,
     "metadata": {},
     "output_type": "execute_result"
    }
   ],
   "source": [
    "apply_action(initial_state, \"pickup\", ['a'])"
   ]
  },
  {
   "cell_type": "code",
   "execution_count": null,
   "metadata": {},
   "outputs": [],
   "source": []
  }
 ],
 "metadata": {
  "kernelspec": {
   "display_name": "nlvr",
   "language": "python",
   "name": "python3"
  },
  "language_info": {
   "codemirror_mode": {
    "name": "ipython",
    "version": 3
   },
   "file_extension": ".py",
   "mimetype": "text/x-python",
   "name": "python",
   "nbconvert_exporter": "python",
   "pygments_lexer": "ipython3",
   "version": "3.10.13"
  }
 },
 "nbformat": 4,
 "nbformat_minor": 2
}
